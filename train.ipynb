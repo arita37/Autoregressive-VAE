{
 "cells": [
  {
   "cell_type": "code",
   "execution_count": 1,
   "metadata": {},
   "outputs": [],
   "source": [
    "import torch\n",
    "\n",
    "from collections import OrderedDict\n",
    "from ptb import PTB\n",
    "from torch.utils.data import DataLoader\n",
    "from multiprocessing import cpu_count\n",
    "from autoencoder import *"
   ]
  },
  {
   "cell_type": "code",
   "execution_count": 2,
   "metadata": {},
   "outputs": [],
   "source": [
    "data_dir = 'data/'\n",
    "splits = ['train', 'valid', 'test']\n",
    "\n",
    "datasets = OrderedDict()\n",
    "for split in splits:\n",
    "    datasets[split] = PTB(\n",
    "        data_dir=data_dir,\n",
    "        split=split,\n",
    "        create_data=False,\n",
    "        max_sequence_length=100,\n",
    "        min_occ=1)"
   ]
  },
  {
   "cell_type": "code",
   "execution_count": 3,
   "metadata": {},
   "outputs": [
    {
     "name": "stdout",
     "output_type": "stream",
     "text": [
      "9877\n",
      "0\n",
      "1\n",
      "2\n",
      "3\n"
     ]
    }
   ],
   "source": [
    "print(datasets['train'].vocab_size)\n",
    "print(datasets['train'].pad_idx)\n",
    "print(datasets['train'].unk_idx)\n",
    "print(datasets['train'].sos_idx)\n",
    "print(datasets['train'].eos_idx)"
   ]
  },
  {
   "cell_type": "code",
   "execution_count": 4,
   "metadata": {},
   "outputs": [],
   "source": [
    "data_loader = DataLoader(\n",
    "    dataset=datasets[split],\n",
    "    batch_size=32,\n",
    "    shuffle=(split=='train'),\n",
    "    num_workers=cpu_count(),\n",
    "    pin_memory=torch.cuda.is_available()\n",
    ")"
   ]
  },
  {
   "cell_type": "code",
   "execution_count": 5,
   "metadata": {},
   "outputs": [
    {
     "name": "stdout",
     "output_type": "stream",
     "text": [
      "torch.Size([32, 100])\n",
      "tensor([[   2,  122,   57,  ...,    0,    0,    0],\n",
      "        [   2,  294,  683,  ...,    0,    0,    0],\n",
      "        [   2,  286,  928,  ...,    0,    0,    0],\n",
      "        ...,\n",
      "        [   2,   10,  370,  ...,    0,    0,    0],\n",
      "        [   2, 5492,  600,  ...,    0,    0,    0],\n",
      "        [   2,  160,  385,  ...,    0,    0,    0]], dtype=torch.int32)\n",
      "torch.Size([32, 100])\n",
      "tensor([[ 122,   57,   33,  ...,    0,    0,    0],\n",
      "        [ 294,  683,   10,  ...,    0,    0,    0],\n",
      "        [ 286,  928, 4361,  ...,    0,    0,    0],\n",
      "        ...,\n",
      "        [  10,  370,    1,  ...,    0,    0,    0],\n",
      "        [5492,  600,  230,  ...,    0,    0,    0],\n",
      "        [ 160,  385,  533,  ...,    0,    0,    0]], dtype=torch.int32)\n",
      "torch.Size([32])\n",
      "tensor([ 7, 38, 27, 33, 25, 20, 26,  6,  6, 31, 23, 15, 16, 27, 39, 14, 12,  8,\n",
      "        24, 30,  9, 34, 25, 22, 21, 13, 28, 22, 11,  4, 19, 41])\n"
     ]
    }
   ],
   "source": [
    "test_batch = {}\n",
    "\n",
    "for iteration, batch in enumerate(data_loader):\n",
    "    print(batch['input'].shape)\n",
    "    print(batch['input'])\n",
    "    print(batch['target'].shape)\n",
    "    print(batch['target'])\n",
    "    print(batch['length'].shape)\n",
    "    print(batch['length'])\n",
    "    test_batch = batch\n",
    "    break"
   ]
  },
  {
   "cell_type": "code",
   "execution_count": 6,
   "metadata": {},
   "outputs": [
    {
     "data": {
      "text/plain": [
       "dict_keys(['input', 'target', 'length'])"
      ]
     },
     "execution_count": 6,
     "metadata": {},
     "output_type": "execute_result"
    }
   ],
   "source": [
    "test_batch.keys()"
   ]
  },
  {
   "cell_type": "markdown",
   "metadata": {},
   "source": [
    "#### Model Input"
   ]
  },
  {
   "cell_type": "code",
   "execution_count": 7,
   "metadata": {},
   "outputs": [],
   "source": [
    "d_model = 200\n",
    "vocab_size = 9877\n",
    "dropout = 0.3\n",
    "N = 3\n",
    "head_num = 5\n",
    "d_ff = 200"
   ]
  },
  {
   "cell_type": "code",
   "execution_count": 8,
   "metadata": {},
   "outputs": [],
   "source": [
    "embed = EmbeddingLayer(d_model, vocab_size, dropout=dropout)\n",
    "encoder = Encoder(d_model, N, head_num, d_ff, dropout=dropout)\n",
    "decoder = Decoder(d_model, N, head_num, d_ff, dropout=dropout)\n",
    "linear_softmax = LinearSoftmax(d_model, vocab_size)"
   ]
  },
  {
   "cell_type": "code",
   "execution_count": 9,
   "metadata": {},
   "outputs": [],
   "source": [
    "en_input = test_batch['input']  # [32, 100]\n",
    "en_mask = torch.zeros(test_batch['input'].shape, dtype=torch.int32).masked_fill_(test_batch['input'] != 0, 1)\n",
    "en_input = en_input.type(torch.LongTensor)\n",
    "en_mask = en_mask.type(torch.LongTensor)\n",
    "en_mask = en_mask.unsqueeze(1)"
   ]
  },
  {
   "cell_type": "code",
   "execution_count": 10,
   "metadata": {},
   "outputs": [
    {
     "name": "stdout",
     "output_type": "stream",
     "text": [
      "- encoder: torch.Size([32, 100, 200])\n",
      "- encoder: torch.Size([32, 50, 200])\n",
      "- encoder: torch.Size([32, 25, 200])\n",
      "- encoder: torch.Size([32, 13, 200])\n",
      "- decoder: torch.Size([32, 13, 200])\n",
      "- decoder: torch.Size([32, 26, 200])\n",
      "- decoder: torch.Size([32, 52, 200])\n",
      "- decoder: torch.Size([32, 104, 200])\n"
     ]
    }
   ],
   "source": [
    "# token & position embedding\n",
    "en_embeddings = embed(en_input)\n",
    "\n",
    "# encoding & decoding\n",
    "en_output = encoder(en_embeddings, en_mask)\n",
    "de_output = decoder(en_output)"
   ]
  },
  {
   "cell_type": "code",
   "execution_count": 11,
   "metadata": {},
   "outputs": [
    {
     "data": {
      "text/plain": [
       "torch.Size([32, 13, 200])"
      ]
     },
     "execution_count": 11,
     "metadata": {},
     "output_type": "execute_result"
    }
   ],
   "source": [
    "en_output.shape"
   ]
  },
  {
   "cell_type": "code",
   "execution_count": 12,
   "metadata": {},
   "outputs": [
    {
     "data": {
      "text/plain": [
       "torch.Size([32, 104, 200])"
      ]
     },
     "execution_count": 12,
     "metadata": {},
     "output_type": "execute_result"
    }
   ],
   "source": [
    "de_output.shape"
   ]
  },
  {
   "cell_type": "code",
   "execution_count": 13,
   "metadata": {},
   "outputs": [
    {
     "data": {
      "text/plain": [
       "torch.Size([32, 100])"
      ]
     },
     "execution_count": 13,
     "metadata": {},
     "output_type": "execute_result"
    }
   ],
   "source": [
    "en_input.shape"
   ]
  },
  {
   "cell_type": "code",
   "execution_count": 24,
   "metadata": {},
   "outputs": [],
   "source": [
    "inputs = torch.tensor([[3, 4, 5, 6, 3, 0, 0, 0],\n",
    "                       [3, 4, 5, 6, 1, 4, 3, 0]])"
   ]
  },
  {
   "cell_type": "code",
   "execution_count": 25,
   "metadata": {},
   "outputs": [
    {
     "data": {
      "text/plain": [
       "tensor([[1, 1, 1, 1, 1, 0, 0, 0],\n",
       "        [1, 1, 1, 1, 1, 1, 1, 0]])"
      ]
     },
     "execution_count": 25,
     "metadata": {},
     "output_type": "execute_result"
    }
   ],
   "source": [
    "en_mask = torch.ones_like(inputs, dtype=inputs.dtype)\n",
    "en_mask.masked_fill_(inputs == 0, 0)"
   ]
  },
  {
   "cell_type": "code",
   "execution_count": 17,
   "metadata": {},
   "outputs": [
    {
     "data": {
      "text/plain": [
       "torch.int64"
      ]
     },
     "execution_count": 17,
     "metadata": {},
     "output_type": "execute_result"
    }
   ],
   "source": [
    "en_input.dtype"
   ]
  },
  {
   "cell_type": "code",
   "execution_count": null,
   "metadata": {},
   "outputs": [],
   "source": []
  }
 ],
 "metadata": {
  "kernelspec": {
   "display_name": "Python 3",
   "language": "python",
   "name": "python3"
  },
  "language_info": {
   "codemirror_mode": {
    "name": "ipython",
    "version": 3
   },
   "file_extension": ".py",
   "mimetype": "text/x-python",
   "name": "python",
   "nbconvert_exporter": "python",
   "pygments_lexer": "ipython3",
   "version": "3.7.4"
  }
 },
 "nbformat": 4,
 "nbformat_minor": 4
}

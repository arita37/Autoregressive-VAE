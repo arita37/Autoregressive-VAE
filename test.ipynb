{
 "cells": [
  {
   "cell_type": "code",
   "execution_count": 36,
   "metadata": {},
   "outputs": [],
   "source": [
    "import torch\n",
    "import torch.nn as nn\n",
    "import torch.nn.functional as F\n",
    "import math\n",
    "import copy\n",
    "\n",
    "from autoencoder_a import LayerNorm, FeedForward, clones, Encoder, Decoder"
   ]
  },
  {
   "cell_type": "code",
   "execution_count": 37,
   "metadata": {},
   "outputs": [],
   "source": [
    "d_model, N, head_num, d_ff = 10, 3, 2, 20  # N: number of layer, head_num: number of head\n",
    "encoder = Encoder(d_model, N, head_num, d_ff)\n",
    "decoder = Decoder(d_model, N, head_num, d_ff)"
   ]
  },
  {
   "cell_type": "code",
   "execution_count": 38,
   "metadata": {},
   "outputs": [],
   "source": [
    "batch_size, seq_len = 2, 64\n",
    "x = torch.rand(batch_size, seq_len, d_model)\n",
    "mask = torch.ones(batch_size, 1, seq_len)"
   ]
  },
  {
   "cell_type": "code",
   "execution_count": 39,
   "metadata": {},
   "outputs": [
    {
     "name": "stdout",
     "output_type": "stream",
     "text": [
      "- encoder input: torch.Size([2, 64, 10])\n",
      "- encoder: torch.Size([2, 64, 10])\n",
      "- encoder: torch.Size([2, 64, 10])\n",
      "- encoder: torch.Size([2, 64, 10])\n",
      "- encoder: torch.Size([2, 32, 10])\n",
      "- encoder: torch.Size([2, 16, 10])\n",
      "- encoder: torch.Size([2, 8, 10])\n"
     ]
    }
   ],
   "source": [
    "memory = encoder(x, mask)"
   ]
  },
  {
   "cell_type": "code",
   "execution_count": 40,
   "metadata": {},
   "outputs": [
    {
     "data": {
      "text/plain": [
       "torch.Size([2, 8, 10])"
      ]
     },
     "execution_count": 40,
     "metadata": {},
     "output_type": "execute_result"
    }
   ],
   "source": [
    "memory.shape"
   ]
  },
  {
   "cell_type": "code",
   "execution_count": 41,
   "metadata": {},
   "outputs": [
    {
     "name": "stdout",
     "output_type": "stream",
     "text": [
      "- decoder input: torch.Size([2, 8, 10])\n",
      "- decoder: torch.Size([2, 16, 10])\n",
      "- decoder: torch.Size([2, 32, 10])\n",
      "- decoder: torch.Size([2, 64, 10])\n",
      "- decoder: torch.Size([2, 64, 10])\n",
      "- decoder: torch.Size([2, 64, 10])\n",
      "- decoder: torch.Size([2, 64, 10])\n"
     ]
    }
   ],
   "source": [
    "output = decoder(memory, torch.ones(batch_size, 1, memory.shape[1]))"
   ]
  },
  {
   "cell_type": "code",
   "execution_count": 42,
   "metadata": {},
   "outputs": [
    {
     "data": {
      "text/plain": [
       "torch.Size([2, 64, 10])"
      ]
     },
     "execution_count": 42,
     "metadata": {},
     "output_type": "execute_result"
    }
   ],
   "source": [
    "output.shape"
   ]
  },
  {
   "cell_type": "code",
   "execution_count": 43,
   "metadata": {},
   "outputs": [],
   "source": [
    "log_softmax = nn.LogSoftmax(dim=1)\n",
    "criterion = nn.NLLLoss()"
   ]
  },
  {
   "cell_type": "code",
   "execution_count": 44,
   "metadata": {},
   "outputs": [
    {
     "name": "stdout",
     "output_type": "stream",
     "text": [
      "Inputs: torch.Size([3, 5])\n",
      "Targets: torch.Size([3])\n"
     ]
    }
   ],
   "source": [
    "inputs = torch.tensor([[ 1.3956,  1.1497, -1.3392,  0.8979,  1.0989],\n",
    "                       [-0.3986,  0.0929, -0.2454,  2.4595,  0.3489],\n",
    "                       [ 0.4532,  0.6627,  0.6888, -0.9131, -1.8882]], requires_grad=True)\n",
    "targets = torch.tensor([1, 0, 4])\n",
    "print(\"Inputs: {}\".format(inputs.shape))\n",
    "print(\"Targets: {}\".format(targets.shape))"
   ]
  },
  {
   "cell_type": "code",
   "execution_count": 45,
   "metadata": {},
   "outputs": [
    {
     "name": "stdout",
     "output_type": "stream",
     "text": [
      "tensor([[-1.1626, -1.4085, -3.8974, -1.6603, -1.4593],\n",
      "        [-3.1502, -2.6587, -2.9970, -0.2921, -2.4027],\n",
      "        [-1.3481, -1.1386, -1.1125, -2.7144, -3.6895]],\n",
      "       grad_fn=<LogSoftmaxBackward>)\n"
     ]
    }
   ],
   "source": [
    "ls = torch.nn.functional.log_softmax(inputs, dim=-1)\n",
    "print(ls)"
   ]
  },
  {
   "cell_type": "code",
   "execution_count": 46,
   "metadata": {},
   "outputs": [],
   "source": [
    "ls = criterion(ls, targets)"
   ]
  },
  {
   "cell_type": "code",
   "execution_count": 47,
   "metadata": {},
   "outputs": [],
   "source": [
    "ls.backward()"
   ]
  },
  {
   "cell_type": "code",
   "execution_count": 48,
   "metadata": {},
   "outputs": [
    {
     "data": {
      "text/plain": [
       "tensor([[ 0.1042, -0.2518,  0.0068,  0.0634,  0.0775],\n",
       "        [-0.3191,  0.0233,  0.0166,  0.2489,  0.0302],\n",
       "        [ 0.0866,  0.1068,  0.1096,  0.0221, -0.3250]])"
      ]
     },
     "execution_count": 48,
     "metadata": {},
     "output_type": "execute_result"
    }
   ],
   "source": [
    "inputs.grad"
   ]
  },
  {
   "cell_type": "code",
   "execution_count": 49,
   "metadata": {},
   "outputs": [],
   "source": [
    "# tensor([[ 0.1042, -0.2518,  0.0068,  0.0634,  0.0775],\n",
    "#         [-0.3191,  0.0233,  0.0166,  0.2489,  0.0302],\n",
    "#         [ 0.0866,  0.1068,  0.1096,  0.0221, -0.3250]])"
   ]
  },
  {
   "cell_type": "code",
   "execution_count": 50,
   "metadata": {},
   "outputs": [
    {
     "data": {
      "text/plain": [
       "tensor(2.7494, grad_fn=<NllLossBackward>)"
      ]
     },
     "execution_count": 50,
     "metadata": {},
     "output_type": "execute_result"
    }
   ],
   "source": [
    "ls"
   ]
  },
  {
   "cell_type": "code",
   "execution_count": 51,
   "metadata": {},
   "outputs": [
    {
     "data": {
      "text/plain": [
       "tensor(2.7494, grad_fn=<MeanBackward0>)"
      ]
     },
     "execution_count": 51,
     "metadata": {},
     "output_type": "execute_result"
    }
   ],
   "source": [
    "ls.mean()"
   ]
  },
  {
   "cell_type": "code",
   "execution_count": 52,
   "metadata": {},
   "outputs": [],
   "source": [
    "logits = torch.tensor([[[10, 1, 1],\n",
    "                        [1, 10, 1],\n",
    "                        [1, 1, 10]]], dtype=torch.float32)"
   ]
  },
  {
   "cell_type": "code",
   "execution_count": 53,
   "metadata": {},
   "outputs": [
    {
     "data": {
      "text/plain": [
       "tensor([[[10.,  1.,  1.],\n",
       "         [ 1., 10.,  1.],\n",
       "         [ 1.,  1., 10.]]])"
      ]
     },
     "execution_count": 53,
     "metadata": {},
     "output_type": "execute_result"
    }
   ],
   "source": [
    "logits"
   ]
  },
  {
   "cell_type": "code",
   "execution_count": 54,
   "metadata": {},
   "outputs": [],
   "source": [
    "log_probs = F.log_softmax(logits, dim=-1)"
   ]
  },
  {
   "cell_type": "code",
   "execution_count": 55,
   "metadata": {},
   "outputs": [
    {
     "data": {
      "text/plain": [
       "tensor([[[-2.4673e-04, -9.0002e+00, -9.0002e+00],\n",
       "         [-9.0002e+00, -2.4673e-04, -9.0002e+00],\n",
       "         [-9.0002e+00, -9.0002e+00, -2.4673e-04]]])"
      ]
     },
     "execution_count": 55,
     "metadata": {},
     "output_type": "execute_result"
    }
   ],
   "source": [
    "log_probs"
   ]
  },
  {
   "cell_type": "code",
   "execution_count": 56,
   "metadata": {},
   "outputs": [],
   "source": [
    "_, preds = torch.max(log_probs, dim=-1)"
   ]
  },
  {
   "cell_type": "code",
   "execution_count": 57,
   "metadata": {},
   "outputs": [
    {
     "data": {
      "text/plain": [
       "tensor([[0, 1, 2]])"
      ]
     },
     "execution_count": 57,
     "metadata": {},
     "output_type": "execute_result"
    }
   ],
   "source": [
    "preds"
   ]
  },
  {
   "cell_type": "code",
   "execution_count": 58,
   "metadata": {},
   "outputs": [],
   "source": [
    "labels = torch.tensor([[1, 2, 3, 4],\n",
    "                       [2, 3, 4, 5]], dtype=torch.int32)\n",
    "targets = torch.tensor([[1, 2, 3, 0],\n",
    "                        [2, 3, 4, 0]], dtype=torch.int32)"
   ]
  },
  {
   "cell_type": "code",
   "execution_count": 59,
   "metadata": {},
   "outputs": [
    {
     "data": {
      "text/plain": [
       "0.75"
      ]
     },
     "execution_count": 59,
     "metadata": {},
     "output_type": "execute_result"
    }
   ],
   "source": [
    "torch.sum(labels == targets).item() / torch.sum(torch.ones_like(labels)).item()"
   ]
  },
  {
   "cell_type": "code",
   "execution_count": 60,
   "metadata": {},
   "outputs": [
    {
     "data": {
      "text/plain": [
       "tensor([[ True,  True,  True, False],\n",
       "        [ True,  True,  True, False]])"
      ]
     },
     "execution_count": 60,
     "metadata": {},
     "output_type": "execute_result"
    }
   ],
   "source": [
    "labels == targets"
   ]
  },
  {
   "cell_type": "code",
   "execution_count": 61,
   "metadata": {},
   "outputs": [
    {
     "data": {
      "text/plain": [
       "0.75"
      ]
     },
     "execution_count": 61,
     "metadata": {},
     "output_type": "execute_result"
    }
   ],
   "source": [
    "torch.mean((labels == targets).float()).item()"
   ]
  },
  {
   "cell_type": "code",
   "execution_count": 62,
   "metadata": {},
   "outputs": [],
   "source": [
    "a = torch.rand(1, 4, 2)"
   ]
  },
  {
   "cell_type": "code",
   "execution_count": 63,
   "metadata": {},
   "outputs": [
    {
     "data": {
      "text/plain": [
       "torch.Size([1, 4, 2])"
      ]
     },
     "execution_count": 63,
     "metadata": {},
     "output_type": "execute_result"
    }
   ],
   "source": [
    "a.shape"
   ]
  },
  {
   "cell_type": "code",
   "execution_count": 64,
   "metadata": {},
   "outputs": [
    {
     "data": {
      "text/plain": [
       "tensor([[[0.4793, 0.1453],\n",
       "         [0.3791, 0.8151],\n",
       "         [0.0494, 0.4479],\n",
       "         [0.5376, 0.1685]]])"
      ]
     },
     "execution_count": 64,
     "metadata": {},
     "output_type": "execute_result"
    }
   ],
   "source": [
    "a"
   ]
  },
  {
   "cell_type": "code",
   "execution_count": 65,
   "metadata": {},
   "outputs": [
    {
     "data": {
      "text/plain": [
       "tensor([[[0.4793, 0.1453, 0.3791, 0.8151],\n",
       "         [0.0494, 0.4479, 0.5376, 0.1685]]])"
      ]
     },
     "execution_count": 65,
     "metadata": {},
     "output_type": "execute_result"
    }
   ],
   "source": [
    "a.view(1, 2, 4)"
   ]
  },
  {
   "cell_type": "code",
   "execution_count": 66,
   "metadata": {},
   "outputs": [
    {
     "data": {
      "text/plain": [
       "tensor([[[0.4793, 0.1453],\n",
       "         [0.3791, 0.8151],\n",
       "         [0.0494, 0.4479],\n",
       "         [0.5376, 0.1685]]])"
      ]
     },
     "execution_count": 66,
     "metadata": {},
     "output_type": "execute_result"
    }
   ],
   "source": [
    "a"
   ]
  },
  {
   "cell_type": "code",
   "execution_count": null,
   "metadata": {},
   "outputs": [],
   "source": []
  }
 ],
 "metadata": {
  "kernelspec": {
   "display_name": "Python 3",
   "language": "python",
   "name": "python3"
  },
  "language_info": {
   "codemirror_mode": {
    "name": "ipython",
    "version": 3
   },
   "file_extension": ".py",
   "mimetype": "text/x-python",
   "name": "python",
   "nbconvert_exporter": "python",
   "pygments_lexer": "ipython3",
   "version": "3.7.4"
  }
 },
 "nbformat": 4,
 "nbformat_minor": 4
}

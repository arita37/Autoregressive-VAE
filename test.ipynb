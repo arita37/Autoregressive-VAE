{
 "cells": [
  {
   "cell_type": "code",
   "execution_count": 1,
   "metadata": {},
   "outputs": [],
   "source": [
    "import torch\n",
    "import torch.nn as nn\n",
    "import torch.nn.functional as F\n",
    "import math\n",
    "import copy\n",
    "\n",
    "from autoencoder import LayerNorm, FeedForward, clones, Encoder, Decoder"
   ]
  },
  {
   "cell_type": "code",
   "execution_count": 2,
   "metadata": {},
   "outputs": [],
   "source": [
    "d_model, N, head_num, d_ff = 10, 3, 2, 20  # N: number of layer, head_num: number of head\n",
    "encoder = Encoder(d_model, N, head_num, d_ff)\n",
    "decoder = Decoder(d_model, N, head_num, d_ff)"
   ]
  },
  {
   "cell_type": "code",
   "execution_count": 3,
   "metadata": {},
   "outputs": [],
   "source": [
    "batch_size, seq_len = 32, 512\n",
    "x = torch.rand(batch_size, seq_len, d_model)\n",
    "mask = torch.ones(batch_size, 1, seq_len)"
   ]
  },
  {
   "cell_type": "code",
   "execution_count": 4,
   "metadata": {},
   "outputs": [
    {
     "name": "stdout",
     "output_type": "stream",
     "text": [
      "- encoder: torch.Size([32, 512, 10])\n",
      "- encoder: torch.Size([32, 512, 10])\n",
      "- encoder: torch.Size([32, 512, 10])\n",
      "- encoder: torch.Size([32, 256, 10])\n",
      "- encoder: torch.Size([32, 128, 10])\n",
      "- encoder: torch.Size([32, 64, 10])\n"
     ]
    }
   ],
   "source": [
    "memory = encoder(x, mask)"
   ]
  },
  {
   "cell_type": "code",
   "execution_count": 5,
   "metadata": {},
   "outputs": [
    {
     "data": {
      "text/plain": [
       "torch.Size([32, 64, 10])"
      ]
     },
     "execution_count": 5,
     "metadata": {},
     "output_type": "execute_result"
    }
   ],
   "source": [
    "memory.shape"
   ]
  },
  {
   "cell_type": "code",
   "execution_count": null,
   "metadata": {},
   "outputs": [
    {
     "name": "stdout",
     "output_type": "stream",
     "text": [
      "- decoder: torch.Size([32, 128, 10])\n",
      "- decoder: torch.Size([32, 256, 10])\n",
      "- decoder: torch.Size([32, 512, 10])\n",
      "- decoder: torch.Size([32, 512, 10])\n"
     ]
    }
   ],
   "source": [
    "output = decoder(memory, torch.ones(batch_size, 1, memory.shape[1]))"
   ]
  },
  {
   "cell_type": "code",
   "execution_count": null,
   "metadata": {},
   "outputs": [],
   "source": [
    "output.shape"
   ]
  },
  {
   "cell_type": "code",
   "execution_count": null,
   "metadata": {},
   "outputs": [],
   "source": [
    "log_softmax = nn.LogSoftmax(dim=1)\n",
    "criterion = nn.NLLLoss()"
   ]
  },
  {
   "cell_type": "code",
   "execution_count": null,
   "metadata": {},
   "outputs": [],
   "source": [
    "inputs = torch.tensor([[ 1.3956,  1.1497, -1.3392,  0.8979,  1.0989],\n",
    "                       [-0.3986,  0.0929, -0.2454,  2.4595,  0.3489],\n",
    "                       [ 0.4532,  0.6627,  0.6888, -0.9131, -1.8882]], requires_grad=True)\n",
    "targets = torch.tensor([1, 0, 4])\n",
    "print(\"Inputs: {}\".format(inputs.shape))\n",
    "print(\"Targets: {}\".format(targets.shape))"
   ]
  },
  {
   "cell_type": "code",
   "execution_count": null,
   "metadata": {},
   "outputs": [],
   "source": [
    "ls = torch.nn.functional.log_softmax(inputs, dim=-1)\n",
    "print(ls)"
   ]
  },
  {
   "cell_type": "code",
   "execution_count": null,
   "metadata": {},
   "outputs": [],
   "source": [
    "ls = criterion(ls, targets)"
   ]
  },
  {
   "cell_type": "code",
   "execution_count": null,
   "metadata": {},
   "outputs": [],
   "source": [
    "ls.backward()"
   ]
  },
  {
   "cell_type": "code",
   "execution_count": null,
   "metadata": {},
   "outputs": [],
   "source": [
    "inputs.grad"
   ]
  },
  {
   "cell_type": "code",
   "execution_count": null,
   "metadata": {},
   "outputs": [],
   "source": [
    "# tensor([[ 0.1042, -0.2518,  0.0068,  0.0634,  0.0775],\n",
    "#         [-0.3191,  0.0233,  0.0166,  0.2489,  0.0302],\n",
    "#         [ 0.0866,  0.1068,  0.1096,  0.0221, -0.3250]])"
   ]
  },
  {
   "cell_type": "code",
   "execution_count": null,
   "metadata": {},
   "outputs": [],
   "source": [
    "ls"
   ]
  },
  {
   "cell_type": "code",
   "execution_count": null,
   "metadata": {},
   "outputs": [],
   "source": [
    "ls.mean()"
   ]
  },
  {
   "cell_type": "code",
   "execution_count": null,
   "metadata": {},
   "outputs": [],
   "source": [
    "logits = torch.tensor([[[10, 1, 1],\n",
    "                        [1, 10, 1],\n",
    "                        [1, 1, 10]]], dtype=torch.float32)"
   ]
  },
  {
   "cell_type": "code",
   "execution_count": null,
   "metadata": {},
   "outputs": [],
   "source": [
    "logits"
   ]
  },
  {
   "cell_type": "code",
   "execution_count": null,
   "metadata": {},
   "outputs": [],
   "source": [
    "log_probs = F.log_softmax(logits, dim=-1)"
   ]
  },
  {
   "cell_type": "code",
   "execution_count": null,
   "metadata": {},
   "outputs": [],
   "source": [
    "log_probs"
   ]
  },
  {
   "cell_type": "code",
   "execution_count": null,
   "metadata": {},
   "outputs": [],
   "source": [
    "_, preds = torch.max(log_probs, dim=-1)"
   ]
  },
  {
   "cell_type": "code",
   "execution_count": null,
   "metadata": {},
   "outputs": [],
   "source": [
    "preds"
   ]
  },
  {
   "cell_type": "code",
   "execution_count": null,
   "metadata": {},
   "outputs": [],
   "source": [
    "labels = torch.tensor([[1, 2, 3, 4],\n",
    "                       [2, 3, 4, 5]], dtype=torch.int32)\n",
    "targets = torch.tensor([[1, 2, 3, 0],\n",
    "                        [2, 3, 4, 0]], dtype=torch.int32)"
   ]
  },
  {
   "cell_type": "code",
   "execution_count": null,
   "metadata": {},
   "outputs": [],
   "source": [
    "torch.sum(labels == targets).item() / torch.sum(torch.ones_like(labels)).item()"
   ]
  },
  {
   "cell_type": "code",
   "execution_count": null,
   "metadata": {},
   "outputs": [],
   "source": [
    "labels == targets"
   ]
  },
  {
   "cell_type": "code",
   "execution_count": null,
   "metadata": {},
   "outputs": [],
   "source": [
    "torch.mean((labels == targets).float()).item()"
   ]
  },
  {
   "cell_type": "code",
   "execution_count": null,
   "metadata": {},
   "outputs": [],
   "source": []
  }
 ],
 "metadata": {
  "kernelspec": {
   "display_name": "Python 3",
   "language": "python",
   "name": "python3"
  },
  "language_info": {
   "codemirror_mode": {
    "name": "ipython",
    "version": 3
   },
   "file_extension": ".py",
   "mimetype": "text/x-python",
   "name": "python",
   "nbconvert_exporter": "python",
   "pygments_lexer": "ipython3",
   "version": "3.7.4"
  }
 },
 "nbformat": 4,
 "nbformat_minor": 4
}

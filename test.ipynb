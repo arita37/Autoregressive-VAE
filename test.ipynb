{
 "cells": [
  {
   "cell_type": "code",
   "execution_count": 1,
   "metadata": {},
   "outputs": [],
   "source": [
    "import torch\n",
    "import torch.nn as nn\n",
    "import torch.nn.functional as F\n",
    "import math\n",
    "import copy\n",
    "\n",
    "from autoencoder import LayerNorm, FeedForward, clones, Encoder, Decoder, VectorQuantizer"
   ]
  },
  {
   "cell_type": "code",
   "execution_count": 2,
   "metadata": {},
   "outputs": [],
   "source": [
    "d_model, N, head_num, d_ff = 10, 3, 2, 20  # N: number of layer, head_num: number of head\n",
    "encoder = Encoder(d_model, N, head_num, d_ff)\n",
    "decoder = Decoder(d_model, N, head_num, d_ff)\n",
    "vq = VectorQuantizer(d_model, 10, 0.25)"
   ]
  },
  {
   "cell_type": "code",
   "execution_count": 3,
   "metadata": {},
   "outputs": [],
   "source": [
    "batch_size, seq_len = 2, 64\n",
    "x = torch.rand(batch_size, seq_len, d_model)\n",
    "mask = torch.ones(batch_size, 1, seq_len)"
   ]
  },
  {
   "cell_type": "code",
   "execution_count": 4,
   "metadata": {},
   "outputs": [],
   "source": [
    "memory = encoder(x, mask)"
   ]
  },
  {
   "cell_type": "code",
   "execution_count": 5,
   "metadata": {},
   "outputs": [
    {
     "data": {
      "text/plain": [
       "torch.Size([2, 8, 10])"
      ]
     },
     "execution_count": 5,
     "metadata": {},
     "output_type": "execute_result"
    }
   ],
   "source": [
    "memory.shape"
   ]
  },
  {
   "cell_type": "code",
   "execution_count": 6,
   "metadata": {},
   "outputs": [],
   "source": [
    "outputs = vq(memory)"
   ]
  },
  {
   "cell_type": "code",
   "execution_count": 8,
   "metadata": {},
   "outputs": [],
   "source": [
    "output = decoder(memory, torch.ones(batch_size, 1, memory.shape[1]))"
   ]
  },
  {
   "cell_type": "code",
   "execution_count": 9,
   "metadata": {},
   "outputs": [
    {
     "data": {
      "text/plain": [
       "torch.Size([2, 64, 10])"
      ]
     },
     "execution_count": 9,
     "metadata": {},
     "output_type": "execute_result"
    }
   ],
   "source": [
    "output.shape"
   ]
  },
  {
   "cell_type": "code",
   "execution_count": 30,
   "metadata": {},
   "outputs": [],
   "source": [
    "class VectorQuantizer(nn.Module):\n",
    "    def __init__(self, dim_embedding, num_embeddings, commitment_cost):\n",
    "        super(VectorQuantizer, self).__init__()\n",
    "        self.dim_embedding = dim_embedding\n",
    "        self.num_embeddings = num_embeddings\n",
    "        self._commitment_cost = commitment_cost\n",
    "        \n",
    "        self.embed = nn.Embedding(num_embeddings, dim_embedding)\n",
    "        \n",
    "    def forward(self, inputs):\n",
    "        \"\"\"\n",
    "        Args:\n",
    "            inputs: [..., dim_embedding]\n",
    "        \"\"\"\n",
    "        assert inputs.shape[-1] == self.dim_embedding\n",
    "        flat_inputs = inputs.view(-1, inputs.shape[-1])\n",
    "        \n",
    "        # distance\n",
    "        w = self.embed.weight.detach()\n",
    "        with torch.no_grad():\n",
    "            distances = ((flat_inputs**2).sum(dim=1, keepdim=True)\n",
    "                         - 2 * torch.matmul(flat_inputs, w.T)  # distances: [N, num_embeddings]\n",
    "                         + ((w.T)**2).sum(dim=0, keepdim=True))\n",
    "            encoding_indices = torch.argmax(-distances, 1)  # [N]\n",
    "            encodings = F.one_hot(encoding_indices, self.num_embeddings)\n",
    "            encoding_indices = encoding_indices.view(inputs.shape[:-1])\n",
    "        \n",
    "        # get quantized vectors\n",
    "        quantized = self.embed(encoding_indices)\n",
    "        \n",
    "        # compute loss\n",
    "        q_latent_loss = torch.mean((inputs.detach() - quantized) ** 2)\n",
    "        e_latent_loss = torch.mean((inputs - quantized.detach()) ** 2)\n",
    "        loss = q_latent_loss + self._commitment_cost * e_latent_loss\n",
    "        \n",
    "        quantized = inputs + (quantized.detach() - inputs.detach())\n",
    "\n",
    "        return {'quantize': quantized,\n",
    "                'loss': loss,\n",
    "                'encodings': encodings,\n",
    "                'encoding_indices': encoding_indices,}"
   ]
  },
  {
   "cell_type": "code",
   "execution_count": 31,
   "metadata": {},
   "outputs": [],
   "source": [
    "vq = VectorQuantizer(3, 10, 1)"
   ]
  },
  {
   "cell_type": "code",
   "execution_count": 32,
   "metadata": {},
   "outputs": [],
   "source": [
    "inputs = torch.tensor([[1., 2., 3.],\n",
    "                       [1., 2., 3.]], requires_grad=True)"
   ]
  },
  {
   "cell_type": "code",
   "execution_count": 33,
   "metadata": {},
   "outputs": [],
   "source": [
    "inputs.grad"
   ]
  },
  {
   "cell_type": "code",
   "execution_count": 34,
   "metadata": {},
   "outputs": [],
   "source": [
    "outputs = vq(inputs)"
   ]
  },
  {
   "cell_type": "code",
   "execution_count": 35,
   "metadata": {},
   "outputs": [
    {
     "data": {
      "text/plain": [
       "torch.Size([2, 3])"
      ]
     },
     "execution_count": 35,
     "metadata": {},
     "output_type": "execute_result"
    }
   ],
   "source": [
    "outputs['quantize'].shape"
   ]
  },
  {
   "cell_type": "code",
   "execution_count": 36,
   "metadata": {},
   "outputs": [],
   "source": [
    "loss = outputs['loss']"
   ]
  },
  {
   "cell_type": "code",
   "execution_count": 37,
   "metadata": {},
   "outputs": [
    {
     "data": {
      "text/plain": [
       "tensor(1.8320, grad_fn=<AddBackward0>)"
      ]
     },
     "execution_count": 37,
     "metadata": {},
     "output_type": "execute_result"
    }
   ],
   "source": [
    "loss"
   ]
  },
  {
   "cell_type": "code",
   "execution_count": 38,
   "metadata": {},
   "outputs": [],
   "source": [
    "loss.backward()"
   ]
  },
  {
   "cell_type": "code",
   "execution_count": 39,
   "metadata": {},
   "outputs": [
    {
     "data": {
      "text/plain": [
       "tensor([[0.0605, 0.4485, 0.3170],\n",
       "        [0.0605, 0.4485, 0.3170]])"
      ]
     },
     "execution_count": 39,
     "metadata": {},
     "output_type": "execute_result"
    }
   ],
   "source": [
    "inputs.grad"
   ]
  },
  {
   "cell_type": "code",
   "execution_count": 41,
   "metadata": {},
   "outputs": [],
   "source": [
    "inputs.grad_fn"
   ]
  },
  {
   "cell_type": "code",
   "execution_count": 42,
   "metadata": {},
   "outputs": [],
   "source": [
    "from random import randint"
   ]
  },
  {
   "cell_type": "code",
   "execution_count": 43,
   "metadata": {},
   "outputs": [
    {
     "data": {
      "text/plain": [
       "1"
      ]
     },
     "execution_count": 43,
     "metadata": {},
     "output_type": "execute_result"
    }
   ],
   "source": [
    "randint(0, 10)"
   ]
  },
  {
   "cell_type": "code",
   "execution_count": null,
   "metadata": {},
   "outputs": [],
   "source": []
  }
 ],
 "metadata": {
  "kernelspec": {
   "display_name": "Python 3",
   "language": "python",
   "name": "python3"
  },
  "language_info": {
   "codemirror_mode": {
    "name": "ipython",
    "version": 3
   },
   "file_extension": ".py",
   "mimetype": "text/x-python",
   "name": "python",
   "nbconvert_exporter": "python",
   "pygments_lexer": "ipython3",
   "version": "3.7.4"
  }
 },
 "nbformat": 4,
 "nbformat_minor": 4
}
